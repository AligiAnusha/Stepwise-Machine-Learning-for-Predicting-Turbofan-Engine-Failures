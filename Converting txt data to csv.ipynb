{
 "cells": [
  {
   "cell_type": "code",
   "execution_count": 1,
   "id": "31681042-6e5d-44c2-ae7b-3d9e0acfb08f",
   "metadata": {},
   "outputs": [
    {
     "name": "stdout",
     "output_type": "stream",
     "text": [
      "Combined CSV with binary failure label saved at: C:\\Users\\aligi\\OneDrive\\Documents\\Desktop\\CombinedData\\combined_turbo_fan_data_with_RUL_and_Failure.csv\n"
     ]
    }
   ],
   "source": [
    "import pandas as pd\n",
    "import os\n",
    "\n",
    "# Paths\n",
    "data_folder = r\"C:\\Users\\aligi\\OneDrive\\Documents\\Desktop\\Turbo Fan Engines\"\n",
    "output_path = r\"C:\\Users\\aligi\\OneDrive\\Documents\\Desktop\\CombinedData\"\n",
    "os.makedirs(output_path, exist_ok=True)\n",
    "\n",
    "columns = [\n",
    "    'unit_number', 'time_in_cycles', 'operational_setting_1', 'operational_setting_2', 'operational_setting_3',\n",
    "    'sensor_measurement_1', 'sensor_measurement_2', 'sensor_measurement_3', 'sensor_measurement_4', 'sensor_measurement_5',\n",
    "    'sensor_measurement_6', 'sensor_measurement_7', 'sensor_measurement_8', 'sensor_measurement_9', 'sensor_measurement_10',\n",
    "    'sensor_measurement_11', 'sensor_measurement_12', 'sensor_measurement_13', 'sensor_measurement_14', 'sensor_measurement_15',\n",
    "    'sensor_measurement_16', 'sensor_measurement_17', 'sensor_measurement_18', 'sensor_measurement_19', 'sensor_measurement_20',\n",
    "    'sensor_measurement_21'\n",
    "]\n",
    "\n",
    "files_info = {\n",
    "    \"FD001\": {\"file\": \"train_FD001.txt\", \"offset\": 0},\n",
    "    \"FD002\": {\"file\": \"train_FD002.txt\", \"offset\": 100},\n",
    "    \"FD003\": {\"file\": \"train_FD003.txt\", \"offset\": 360},\n",
    "    \"FD004\": {\"file\": \"train_FD004.txt\", \"offset\": 460},\n",
    "}\n",
    "\n",
    "df_list = []\n",
    "\n",
    "for dataset, info in files_info.items():\n",
    "    file_path = os.path.join(data_folder, info[\"file\"])\n",
    "    df = pd.read_csv(file_path, sep=r'\\s+', header=None)\n",
    "    df.columns = columns\n",
    "    df[\"unit_number\"] += info[\"offset\"]\n",
    "    df[\"dataset\"] = dataset\n",
    "\n",
    "    # Convert operational and sensor columns to float\n",
    "    float_cols = columns[2:]  # all columns except first two (unit_number, time_in_cycles)\n",
    "    df[float_cols] = df[float_cols].astype(float)\n",
    "\n",
    "    # Keep unit_number and time_in_cycles as int\n",
    "    df['unit_number'] = df['unit_number'].astype(int)\n",
    "    df['time_in_cycles'] = df['time_in_cycles'].astype(int)\n",
    "\n",
    "    df.dropna(inplace=True)\n",
    "\n",
    "    # Calculate RUL per unit_number\n",
    "    max_cycles = df.groupby('unit_number')['time_in_cycles'].transform('max')\n",
    "    df['RUL'] = max_cycles - df['time_in_cycles']\n",
    "\n",
    "    # Create binary failure label (1 if RUL <= 30, else 0)\n",
    "    failure_threshold = 30\n",
    "    df['Failure'] = (df['RUL'] <= failure_threshold).astype(int)\n",
    "\n",
    "    df_list.append(df)\n",
    "\n",
    "combined_df = pd.concat(df_list, ignore_index=True)\n",
    "\n",
    "combined_csv_path = os.path.join(output_path, \"combined_turbo_fan_data_with_RUL_and_Failure.csv\")\n",
    "combined_df.to_csv(combined_csv_path, index=False)\n",
    "print(f\"Combined CSV with binary failure label saved at: {combined_csv_path}\")\n"
   ]
  },
  {
   "cell_type": "code",
   "execution_count": null,
   "id": "603dfe66-3106-4f8e-8cef-21c1df468f65",
   "metadata": {},
   "outputs": [],
   "source": []
  }
 ],
 "metadata": {
  "kernelspec": {
   "display_name": "Python 3 (ipykernel)",
   "language": "python",
   "name": "python3"
  },
  "language_info": {
   "codemirror_mode": {
    "name": "ipython",
    "version": 3
   },
   "file_extension": ".py",
   "mimetype": "text/x-python",
   "name": "python",
   "nbconvert_exporter": "python",
   "pygments_lexer": "ipython3",
   "version": "3.12.4"
  }
 },
 "nbformat": 4,
 "nbformat_minor": 5
}
